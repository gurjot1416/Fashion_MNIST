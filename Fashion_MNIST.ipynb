{
 "cells": [
  {
   "cell_type": "code",
   "execution_count": 15,
   "id": "73be47f5",
   "metadata": {},
   "outputs": [],
   "source": [
    "import numpy as np\n",
    "import pandas as pd\n",
    "import matplotlib.pyplot as plt\n",
    "from tensorflow.keras.datasets import fashion_mnist\n",
    "from tensorflow import keras"
   ]
  },
  {
   "cell_type": "code",
   "execution_count": 2,
   "id": "6bd24419",
   "metadata": {},
   "outputs": [],
   "source": [
    "(train_x , train_y) , (test_x , test_y) = fashion_mnist.load_data()"
   ]
  },
  {
   "cell_type": "code",
   "execution_count": 3,
   "id": "004f7764",
   "metadata": {},
   "outputs": [
    {
     "data": {
      "text/plain": [
       "<matplotlib.image.AxesImage at 0x1e6e4205460>"
      ]
     },
     "execution_count": 3,
     "metadata": {},
     "output_type": "execute_result"
    },
    {
     "data": {
      "image/png": "[encoded data removed]",
      "text/plain": [
       "<Figure size 432x288 with 1 Axes>"
      ]
     },
     "metadata": {
      "needs_background": "light"
     },
     "output_type": "display_data"
    }
   ],
   "source": [
    "plt.imshow(train_x[0])"
   ]
  },
  {
   "cell_type": "code",
   "execution_count": 4,
   "id": "21d636c4",
   "metadata": {},
   "outputs": [],
   "source": [
    "class_names = ['T-shirt/top','Trouser','Pullover','Dress','Coat','Sandal','Shirt','Sneaker','Bag','Ankle boot']"
   ]
  },
  {
   "cell_type": "code",
   "execution_count": 5,
   "id": "2f2f83ab",
   "metadata": {},
   "outputs": [
    {
     "data": {
      "text/plain": [
       "9"
      ]
     },
     "execution_count": 5,
     "metadata": {},
     "output_type": "execute_result"
    }
   ],
   "source": [
    "train_y[0]"
   ]
  },
  {
   "cell_type": "code",
   "execution_count": 6,
   "id": "f22a69bd",
   "metadata": {},
   "outputs": [
    {
     "data": {
      "text/plain": [
       "'Ankle boot'"
      ]
     },
     "execution_count": 6,
     "metadata": {},
     "output_type": "execute_result"
    }
   ],
   "source": [
    "class_names[train_y[0]]"
   ]
  },
  {
   "cell_type": "code",
   "execution_count": 7,
   "id": "c4c4730e",
   "metadata": {},
   "outputs": [
    {
     "data": {
      "text/plain": [
       "(28, 28)"
      ]
     },
     "execution_count": 7,
     "metadata": {},
     "output_type": "execute_result"
    }
   ],
   "source": [
    "train_x[0].shape"
   ]
  },
  {
   "cell_type": "code",
   "execution_count": 8,
   "id": "0fddbace",
   "metadata": {},
   "outputs": [],
   "source": [
    "x_train = train_x/255.\n",
    "x_test = test_x/255."
   ]
  },
  {
   "cell_type": "code",
   "execution_count": 9,
   "id": "cfb1eba5",
   "metadata": {},
   "outputs": [
    {
     "data": {
      "text/plain": [
       "array([[0.        , 0.        , 0.        , 0.        , 0.        ,\n",
       "        0.        , 0.        , 0.        , 0.        , 0.        ,\n",
       "        0.        , 0.        , 0.        , 0.        , 0.        ,\n",
       "        0.        , 0.        , 0.        , 0.        , 0.        ,\n",
       "        0.        , 0.        , 0.        , 0.        , 0.        ,\n",
       "        0.        , 0.        , 0.        ],\n",
       "       [0.        , 0.        , 0.        , 0.        , 0.        ,\n",
       "        0.        , 0.        , 0.        , 0.        , 0.        ,\n",
       "        0.        , 0.        , 0.        , 0.        , 0.        ,\n",
       "        0.        , 0.        , 0.        , 0.        , 0.        ,\n",
       "        0.        , 0.        , 0.        , 0.        , 0.        ,\n",
       "        0.        , 0.        , 0.        ],\n",
       "       [0.        , 0.        , 0.        , 0.        , 0.        ,\n",
       "        0.        , 0.        , 0.        , 0.        , 0.        ,\n",
       "        0.        , 0.        , 0.        , 0.        , 0.        ,\n",
       "        0.        , 0.        , 0.        , 0.        , 0.        ,\n",
       "        0.        , 0.        , 0.        , 0.        , 0.        ,\n",
       "        0.        , 0.        , 0.        ],\n",
       "       [0.        , 0.        , 0.        , 0.        , 0.        ,\n",
       "        0.        , 0.        , 0.        , 0.        , 0.        ,\n",
       "        0.        , 0.        , 0.00392157, 0.        , 0.        ,\n",
       "        0.05098039, 0.28627451, 0.        , 0.        , 0.00392157,\n",
       "        0.01568627, 0.        , 0.        , 0.        , 0.        ,\n",
       "        0.00392157, 0.00392157, 0.        ],\n",
       "       [0.        , 0.        , 0.        , 0.        , 0.        ,\n",
       "        0.        , 0.        , 0.        , 0.        , 0.        ,\n",
       "        0.        , 0.        , 0.01176471, 0.        , 0.14117647,\n",
       "        0.53333333, 0.49803922, 0.24313725, 0.21176471, 0.        ,\n",
       "        0.        , 0.        , 0.00392157, 0.01176471, 0.01568627,\n",
       "        0.        , 0.        , 0.01176471],\n",
       "       [0.        , 0.        , 0.        , 0.        , 0.        ,\n",
       "        0.        , 0.        , 0.        , 0.        , 0.        ,\n",
       "        0.        , 0.        , 0.02352941, 0.        , 0.4       ,\n",
       "        0.8       , 0.69019608, 0.5254902 , 0.56470588, 0.48235294,\n",
       "        0.09019608, 0.        , 0.        , 0.        , 0.        ,\n",
       "        0.04705882, 0.03921569, 0.        ],\n",
       "       [0.        , 0.        , 0.        , 0.        , 0.        ,\n",
       "        0.        , 0.        , 0.        , 0.        , 0.        ,\n",
       "        0.        , 0.        , 0.        , 0.        , 0.60784314,\n",
       "        0.9254902 , 0.81176471, 0.69803922, 0.41960784, 0.61176471,\n",
       "        0.63137255, 0.42745098, 0.25098039, 0.09019608, 0.30196078,\n",
       "        0.50980392, 0.28235294, 0.05882353],\n",
       "       [0.        , 0.        , 0.        , 0.        , 0.        ,\n",
       "        0.        , 0.        , 0.        , 0.        , 0.        ,\n",
       "        0.        , 0.00392157, 0.        , 0.27058824, 0.81176471,\n",
       "        0.8745098 , 0.85490196, 0.84705882, 0.84705882, 0.63921569,\n",
       "        0.49803922, 0.4745098 , 0.47843137, 0.57254902, 0.55294118,\n",
       "        0.34509804, 0.6745098 , 0.25882353],\n",
       "       [0.        , 0.        , 0.        , 0.        , 0.        ,\n",
       "        0.        , 0.        , 0.        , 0.        , 0.00392157,\n",
       "        0.00392157, 0.00392157, 0.        , 0.78431373, 0.90980392,\n",
       "        0.90980392, 0.91372549, 0.89803922, 0.8745098 , 0.8745098 ,\n",
       "        0.84313725, 0.83529412, 0.64313725, 0.49803922, 0.48235294,\n",
       "        0.76862745, 0.89803922, 0.        ],\n",
       "       [0.        , 0.        , 0.        , 0.        , 0.        ,\n",
       "        0.        , 0.        , 0.        , 0.        , 0.        ,\n",
       "        0.        , 0.        , 0.        , 0.71764706, 0.88235294,\n",
       "        0.84705882, 0.8745098 , 0.89411765, 0.92156863, 0.89019608,\n",
       "        0.87843137, 0.87058824, 0.87843137, 0.86666667, 0.8745098 ,\n",
       "        0.96078431, 0.67843137, 0.        ],\n",
       "       [0.        , 0.        , 0.        , 0.        , 0.        ,\n",
       "        0.        , 0.        , 0.        , 0.        , 0.        ,\n",
       "        0.        , 0.        , 0.        , 0.75686275, 0.89411765,\n",
       "        0.85490196, 0.83529412, 0.77647059, 0.70588235, 0.83137255,\n",
       "        0.82352941, 0.82745098, 0.83529412, 0.8745098 , 0.8627451 ,\n",
       "        0.95294118, 0.79215686, 0.        ],\n",
       "       [0.        , 0.        , 0.        , 0.        , 0.        ,\n",
       "        0.        , 0.        , 0.        , 0.        , 0.00392157,\n",
       "        0.01176471, 0.        , 0.04705882, 0.85882353, 0.8627451 ,\n",
       "        0.83137255, 0.85490196, 0.75294118, 0.6627451 , 0.89019608,\n",
       "        0.81568627, 0.85490196, 0.87843137, 0.83137255, 0.88627451,\n",
       "        0.77254902, 0.81960784, 0.20392157],\n",
       "       [0.        , 0.        , 0.        , 0.        , 0.        ,\n",
       "        0.        , 0.        , 0.        , 0.        , 0.        ,\n",
       "        0.02352941, 0.        , 0.38823529, 0.95686275, 0.87058824,\n",
       "        0.8627451 , 0.85490196, 0.79607843, 0.77647059, 0.86666667,\n",
       "        0.84313725, 0.83529412, 0.87058824, 0.8627451 , 0.96078431,\n",
       "        0.46666667, 0.65490196, 0.21960784],\n",
       "       [0.        , 0.        , 0.        , 0.        , 0.        ,\n",
       "        0.        , 0.        , 0.        , 0.        , 0.01568627,\n",
       "        0.        , 0.        , 0.21568627, 0.9254902 , 0.89411765,\n",
       "        0.90196078, 0.89411765, 0.94117647, 0.90980392, 0.83529412,\n",
       "        0.85490196, 0.8745098 , 0.91764706, 0.85098039, 0.85098039,\n",
       "        0.81960784, 0.36078431, 0.        ],\n",
       "       [0.        , 0.        , 0.00392157, 0.01568627, 0.02352941,\n",
       "        0.02745098, 0.00784314, 0.        , 0.        , 0.        ,\n",
       "        0.        , 0.        , 0.92941176, 0.88627451, 0.85098039,\n",
       "        0.8745098 , 0.87058824, 0.85882353, 0.87058824, 0.86666667,\n",
       "        0.84705882, 0.8745098 , 0.89803922, 0.84313725, 0.85490196,\n",
       "        1.        , 0.30196078, 0.        ],\n",
       "       [0.        , 0.01176471, 0.        , 0.        , 0.        ,\n",
       "        0.        , 0.        , 0.        , 0.        , 0.24313725,\n",
       "        0.56862745, 0.8       , 0.89411765, 0.81176471, 0.83529412,\n",
       "        0.86666667, 0.85490196, 0.81568627, 0.82745098, 0.85490196,\n",
       "        0.87843137, 0.8745098 , 0.85882353, 0.84313725, 0.87843137,\n",
       "        0.95686275, 0.62352941, 0.        ],\n",
       "       [0.        , 0.        , 0.        , 0.        , 0.07058824,\n",
       "        0.17254902, 0.32156863, 0.41960784, 0.74117647, 0.89411765,\n",
       "        0.8627451 , 0.87058824, 0.85098039, 0.88627451, 0.78431373,\n",
       "        0.80392157, 0.82745098, 0.90196078, 0.87843137, 0.91764706,\n",
       "        0.69019608, 0.7372549 , 0.98039216, 0.97254902, 0.91372549,\n",
       "        0.93333333, 0.84313725, 0.        ],\n",
       "       [0.        , 0.22352941, 0.73333333, 0.81568627, 0.87843137,\n",
       "        0.86666667, 0.87843137, 0.81568627, 0.8       , 0.83921569,\n",
       "        0.81568627, 0.81960784, 0.78431373, 0.62352941, 0.96078431,\n",
       "        0.75686275, 0.80784314, 0.8745098 , 1.        , 1.        ,\n",
       "        0.86666667, 0.91764706, 0.86666667, 0.82745098, 0.8627451 ,\n",
       "        0.90980392, 0.96470588, 0.        ],\n",
       "       [0.01176471, 0.79215686, 0.89411765, 0.87843137, 0.86666667,\n",
       "        0.82745098, 0.82745098, 0.83921569, 0.80392157, 0.80392157,\n",
       "        0.80392157, 0.8627451 , 0.94117647, 0.31372549, 0.58823529,\n",
       "        1.        , 0.89803922, 0.86666667, 0.7372549 , 0.60392157,\n",
       "        0.74901961, 0.82352941, 0.8       , 0.81960784, 0.87058824,\n",
       "        0.89411765, 0.88235294, 0.        ],\n",
       "       [0.38431373, 0.91372549, 0.77647059, 0.82352941, 0.87058824,\n",
       "        0.89803922, 0.89803922, 0.91764706, 0.97647059, 0.8627451 ,\n",
       "        0.76078431, 0.84313725, 0.85098039, 0.94509804, 0.25490196,\n",
       "        0.28627451, 0.41568627, 0.45882353, 0.65882353, 0.85882353,\n",
       "        0.86666667, 0.84313725, 0.85098039, 0.8745098 , 0.8745098 ,\n",
       "        0.87843137, 0.89803922, 0.11372549],\n",
       "       [0.29411765, 0.8       , 0.83137255, 0.8       , 0.75686275,\n",
       "        0.80392157, 0.82745098, 0.88235294, 0.84705882, 0.7254902 ,\n",
       "        0.77254902, 0.80784314, 0.77647059, 0.83529412, 0.94117647,\n",
       "        0.76470588, 0.89019608, 0.96078431, 0.9372549 , 0.8745098 ,\n",
       "        0.85490196, 0.83137255, 0.81960784, 0.87058824, 0.8627451 ,\n",
       "        0.86666667, 0.90196078, 0.2627451 ],\n",
       "       [0.18823529, 0.79607843, 0.71764706, 0.76078431, 0.83529412,\n",
       "        0.77254902, 0.7254902 , 0.74509804, 0.76078431, 0.75294118,\n",
       "        0.79215686, 0.83921569, 0.85882353, 0.86666667, 0.8627451 ,\n",
       "        0.9254902 , 0.88235294, 0.84705882, 0.78039216, 0.80784314,\n",
       "        0.72941176, 0.70980392, 0.69411765, 0.6745098 , 0.70980392,\n",
       "        0.80392157, 0.80784314, 0.45098039],\n",
       "       [0.        , 0.47843137, 0.85882353, 0.75686275, 0.70196078,\n",
       "        0.67058824, 0.71764706, 0.76862745, 0.8       , 0.82352941,\n",
       "        0.83529412, 0.81176471, 0.82745098, 0.82352941, 0.78431373,\n",
       "        0.76862745, 0.76078431, 0.74901961, 0.76470588, 0.74901961,\n",
       "        0.77647059, 0.75294118, 0.69019608, 0.61176471, 0.65490196,\n",
       "        0.69411765, 0.82352941, 0.36078431],\n",
       "       [0.        , 0.        , 0.29019608, 0.74117647, 0.83137255,\n",
       "        0.74901961, 0.68627451, 0.6745098 , 0.68627451, 0.70980392,\n",
       "        0.7254902 , 0.7372549 , 0.74117647, 0.7372549 , 0.75686275,\n",
       "        0.77647059, 0.8       , 0.81960784, 0.82352941, 0.82352941,\n",
       "        0.82745098, 0.7372549 , 0.7372549 , 0.76078431, 0.75294118,\n",
       "        0.84705882, 0.66666667, 0.        ],\n",
       "       [0.00784314, 0.        , 0.        , 0.        , 0.25882353,\n",
       "        0.78431373, 0.87058824, 0.92941176, 0.9372549 , 0.94901961,\n",
       "        0.96470588, 0.95294118, 0.95686275, 0.86666667, 0.8627451 ,\n",
       "        0.75686275, 0.74901961, 0.70196078, 0.71372549, 0.71372549,\n",
       "        0.70980392, 0.69019608, 0.65098039, 0.65882353, 0.38823529,\n",
       "        0.22745098, 0.        , 0.        ],\n",
       "       [0.        , 0.        , 0.        , 0.        , 0.        ,\n",
       "        0.        , 0.        , 0.15686275, 0.23921569, 0.17254902,\n",
       "        0.28235294, 0.16078431, 0.1372549 , 0.        , 0.        ,\n",
       "        0.        , 0.        , 0.        , 0.        , 0.        ,\n",
       "        0.        , 0.        , 0.        , 0.        , 0.        ,\n",
       "        0.        , 0.        , 0.        ],\n",
       "       [0.        , 0.        , 0.        , 0.        , 0.        ,\n",
       "        0.        , 0.        , 0.        , 0.        , 0.        ,\n",
       "        0.        , 0.        , 0.        , 0.        , 0.        ,\n",
       "        0.        , 0.        , 0.        , 0.        , 0.        ,\n",
       "        0.        , 0.        , 0.        , 0.        , 0.        ,\n",
       "        0.        , 0.        , 0.        ],\n",
       "       [0.        , 0.        , 0.        , 0.        , 0.        ,\n",
       "        0.        , 0.        , 0.        , 0.        , 0.        ,\n",
       "        0.        , 0.        , 0.        , 0.        , 0.        ,\n",
       "        0.        , 0.        , 0.        , 0.        , 0.        ,\n",
       "        0.        , 0.        , 0.        , 0.        , 0.        ,\n",
       "        0.        , 0.        , 0.        ]])"
      ]
     },
     "execution_count": 9,
     "metadata": {},
     "output_type": "execute_result"
    }
   ],
   "source": [
    "x_train[0]"
   ]
  },
  {
   "cell_type": "code",
   "execution_count": 10,
   "id": "187e9b68",
   "metadata": {},
   "outputs": [],
   "source": [
    "x_valid , x_trv = x_train[:5000],x_train[5000:]\n",
    "y_valid , y_trv = train_y[:5000],train_y[5000:]\n",
    "x_test = x_test"
   ]
  },
  {
   "cell_type": "code",
   "execution_count": 11,
   "id": "d1549017",
   "metadata": {},
   "outputs": [],
   "source": [
    "import tensorflow as tf"
   ]
  },
  {
   "cell_type": "code",
   "execution_count": 12,
   "id": "80d0a1cd",
   "metadata": {},
   "outputs": [],
   "source": [
    "np.random.seed(42)\n",
    "tf.random.set_seed(42)"
   ]
  },
  {
   "cell_type": "code",
   "execution_count": 13,
   "id": "806771da",
   "metadata": {},
   "outputs": [],
   "source": [
    "model = tf.keras.models.Sequential()"
   ]
  },
  {
   "cell_type": "code",
   "execution_count": 17,
   "id": "6942da51",
   "metadata": {},
   "outputs": [],
   "source": [
    "model.add(keras.layers.Flatten(input_shape=[28,28]))\n",
    "model.add(keras.layers.Dense(300,activation=\"relu\"))\n",
    "model.add(keras.layers.Dense(100,activation=\"relu\"))\n",
    "model.add(keras.layers.Dense(10,activation=\"softmax\"))"
   ]
  },
  {
   "cell_type": "code",
   "execution_count": 18,
   "id": "4db4c44b",
   "metadata": {},
   "outputs": [
    {
     "name": "stdout",
     "output_type": "stream",
     "text": [
      "Model: \"sequential\"\n",
      "_________________________________________________________________\n",
      "Layer (type)                 Output Shape              Param #   \n",
      "=================================================================\n",
      "flatten (Flatten)            (None, 784)               0         \n",
      "_________________________________________________________________\n",
      "dense (Dense)                (None, 300)               235500    \n",
      "_________________________________________________________________\n",
      "dense_1 (Dense)              (None, 100)               30100     \n",
      "_________________________________________________________________\n",
      "dense_2 (Dense)              (None, 10)                1010      \n",
      "=================================================================\n",
      "Total params: 266,610\n",
      "Trainable params: 266,610\n",
      "Non-trainable params: 0\n",
      "_________________________________________________________________\n"
     ]
    }
   ],
   "source": [
    "model.summary()"
   ]
  },
  {
   "cell_type": "code",
   "execution_count": 20,
   "id": "6b540652",
   "metadata": {
    "collapsed": true
   },
   "outputs": [
    {
     "ename": "ModuleNotFoundError",
     "evalue": "No module named 'pydot'",
     "output_type": "error",
     "traceback": [
      "\u001b[1;31m---------------------------------------------------------------------------\u001b[0m",
      "\u001b[1;31mModuleNotFoundError\u001b[0m                       Traceback (most recent call last)",
      "\u001b[1;32m~\\AppData\\Local\\Temp/ipykernel_2668/288512272.py\u001b[0m in \u001b[0;36m<module>\u001b[1;34m\u001b[0m\n\u001b[1;32m----> 1\u001b[1;33m \u001b[1;32mimport\u001b[0m \u001b[0mpydot\u001b[0m\u001b[1;33m\u001b[0m\u001b[1;33m\u001b[0m\u001b[0m\n\u001b[0m\u001b[0;32m      2\u001b[0m \u001b[0mkeras\u001b[0m\u001b[1;33m.\u001b[0m\u001b[0mutils\u001b[0m\u001b[1;33m.\u001b[0m\u001b[0mplot_model\u001b[0m\u001b[1;33m(\u001b[0m\u001b[0mmodel\u001b[0m\u001b[1;33m)\u001b[0m\u001b[1;33m\u001b[0m\u001b[1;33m\u001b[0m\u001b[0m\n",
      "\u001b[1;31mModuleNotFoundError\u001b[0m: No module named 'pydot'"
     ]
    }
   ],
   "source": [
    "import pydot\n",
    "keras.utils.plot_model(model)"
   ]
  },
  {
   "cell_type": "code",
   "execution_count": 21,
   "id": "9c7b070e",
   "metadata": {},
   "outputs": [],
   "source": [
    "model.compile(loss=\"sparse_categorical_crossentropy\",\n",
    "             optimizer=\"sgd\",\n",
    "             metrics=[\"accuracy\"])"
   ]
  },
  {
   "cell_type": "code",
   "execution_count": 22,
   "id": "2904808d",
   "metadata": {
    "scrolled": true
   },
   "outputs": [
    {
     "name": "stdout",
     "output_type": "stream",
     "text": [
      "Epoch 1/30\n",
      "157/157 [==============================] - 2s 15ms/step - loss: 1.5374 - accuracy: 0.5588 - val_loss: 1.0833 - val_accuracy: 0.6793\n",
      "Epoch 2/30\n",
      "157/157 [==============================] - 2s 14ms/step - loss: 0.8924 - accuracy: 0.7286 - val_loss: 0.8454 - val_accuracy: 0.7217\n",
      "Epoch 3/30\n",
      "157/157 [==============================] - 2s 12ms/step - loss: 0.7285 - accuracy: 0.7624 - val_loss: 0.7148 - val_accuracy: 0.7525\n",
      "Epoch 4/30\n",
      "157/157 [==============================] - 2s 13ms/step - loss: 0.6508 - accuracy: 0.7828 - val_loss: 0.6672 - val_accuracy: 0.7661\n",
      "Epoch 5/30\n",
      "157/157 [==============================] - 2s 13ms/step - loss: 0.6028 - accuracy: 0.7994 - val_loss: 0.7182 - val_accuracy: 0.7511\n",
      "Epoch 6/30\n",
      "157/157 [==============================] - 2s 14ms/step - loss: 0.5724 - accuracy: 0.8140 - val_loss: 0.5950 - val_accuracy: 0.7956\n",
      "Epoch 7/30\n",
      "157/157 [==============================] - 2s 13ms/step - loss: 0.5450 - accuracy: 0.8212 - val_loss: 0.5731 - val_accuracy: 0.7989\n",
      "Epoch 8/30\n",
      "157/157 [==============================] - 2s 14ms/step - loss: 0.5185 - accuracy: 0.8292 - val_loss: 0.5577 - val_accuracy: 0.8078\n",
      "Epoch 9/30\n",
      "157/157 [==============================] - 2s 13ms/step - loss: 0.5024 - accuracy: 0.8342 - val_loss: 0.6599 - val_accuracy: 0.7512\n",
      "Epoch 10/30\n",
      "157/157 [==============================] - 2s 13ms/step - loss: 0.4875 - accuracy: 0.8378 - val_loss: 0.5236 - val_accuracy: 0.8217\n",
      "Epoch 11/30\n",
      "157/157 [==============================] - 2s 13ms/step - loss: 0.4691 - accuracy: 0.8452 - val_loss: 0.5503 - val_accuracy: 0.8076\n",
      "Epoch 12/30\n",
      "157/157 [==============================] - 2s 13ms/step - loss: 0.4582 - accuracy: 0.8474 - val_loss: 0.5431 - val_accuracy: 0.8147\n",
      "Epoch 13/30\n",
      "157/157 [==============================] - 2s 13ms/step - loss: 0.4486 - accuracy: 0.8500 - val_loss: 0.5346 - val_accuracy: 0.8186\n",
      "Epoch 14/30\n",
      "157/157 [==============================] - 2s 12ms/step - loss: 0.4344 - accuracy: 0.8528 - val_loss: 0.5565 - val_accuracy: 0.7981\n",
      "Epoch 15/30\n",
      "157/157 [==============================] - 2s 13ms/step - loss: 0.4221 - accuracy: 0.8586 - val_loss: 0.5539 - val_accuracy: 0.8033\n",
      "Epoch 16/30\n",
      "157/157 [==============================] - 2s 13ms/step - loss: 0.4201 - accuracy: 0.8588 - val_loss: 0.5293 - val_accuracy: 0.8188\n",
      "Epoch 17/30\n",
      "157/157 [==============================] - 2s 12ms/step - loss: 0.4111 - accuracy: 0.8614 - val_loss: 0.5085 - val_accuracy: 0.8258\n",
      "Epoch 18/30\n",
      "157/157 [==============================] - 2s 13ms/step - loss: 0.3990 - accuracy: 0.8670 - val_loss: 0.6947 - val_accuracy: 0.7435\n",
      "Epoch 19/30\n",
      "157/157 [==============================] - 2s 14ms/step - loss: 0.4025 - accuracy: 0.8628 - val_loss: 0.7655 - val_accuracy: 0.7269\n",
      "Epoch 20/30\n",
      "157/157 [==============================] - 2s 13ms/step - loss: 0.3883 - accuracy: 0.8692 - val_loss: 0.5748 - val_accuracy: 0.8114\n",
      "Epoch 21/30\n",
      "157/157 [==============================] - 2s 13ms/step - loss: 0.3821 - accuracy: 0.8740 - val_loss: 0.5282 - val_accuracy: 0.8163\n",
      "Epoch 22/30\n",
      "157/157 [==============================] - 2s 12ms/step - loss: 0.3737 - accuracy: 0.8748 - val_loss: 0.5510 - val_accuracy: 0.7988\n",
      "Epoch 23/30\n",
      "157/157 [==============================] - 2s 13ms/step - loss: 0.3691 - accuracy: 0.8800 - val_loss: 0.4767 - val_accuracy: 0.8348\n",
      "Epoch 24/30\n",
      "157/157 [==============================] - 2s 13ms/step - loss: 0.3587 - accuracy: 0.8816 - val_loss: 0.5032 - val_accuracy: 0.8213\n",
      "Epoch 25/30\n",
      "157/157 [==============================] - 2s 13ms/step - loss: 0.3537 - accuracy: 0.8832 - val_loss: 0.4816 - val_accuracy: 0.8341\n",
      "Epoch 26/30\n",
      "157/157 [==============================] - 2s 14ms/step - loss: 0.3532 - accuracy: 0.8802 - val_loss: 0.5171 - val_accuracy: 0.8223\n",
      "Epoch 27/30\n",
      "157/157 [==============================] - 2s 14ms/step - loss: 0.3480 - accuracy: 0.8790 - val_loss: 0.5644 - val_accuracy: 0.8188\n",
      "Epoch 28/30\n",
      "157/157 [==============================] - 2s 14ms/step - loss: 0.3436 - accuracy: 0.8842 - val_loss: 0.6928 - val_accuracy: 0.7709\n",
      "Epoch 29/30\n",
      "157/157 [==============================] - 2s 14ms/step - loss: 0.3398 - accuracy: 0.8870 - val_loss: 0.8003 - val_accuracy: 0.7586\n",
      "Epoch 30/30\n",
      "157/157 [==============================] - 2s 11ms/step - loss: 0.3372 - accuracy: 0.8874 - val_loss: 0.4809 - val_accuracy: 0.8346\n"
     ]
    }
   ],
   "source": [
    "model_h = model.fit(x_valid,y_valid,epochs=30,\n",
    "                   validation_data=(x_trv,y_trv))"
   ]
  },
  {
   "cell_type": "code",
   "execution_count": 23,
   "id": "5aa4fb29",
   "metadata": {},
   "outputs": [
    {
     "data": {
      "text/plain": [
       "{'verbose': 1, 'epochs': 30, 'steps': 157}"
      ]
     },
     "execution_count": 23,
     "metadata": {},
     "output_type": "execute_result"
    }
   ],
   "source": [
    "model_h.params"
   ]
  },
  {
   "cell_type": "code",
   "execution_count": 24,
   "id": "2f5676a6",
   "metadata": {},
   "outputs": [
    {
     "data": {
      "text/plain": [
       "{'loss': [1.5374408960342407,\n",
       "  0.8924153447151184,\n",
       "  0.7284515500068665,\n",
       "  0.6507648825645447,\n",
       "  0.6028160452842712,\n",
       "  0.5723599195480347,\n",
       "  0.5449979901313782,\n",
       "  0.5184648633003235,\n",
       "  0.5024428963661194,\n",
       "  0.4875234365463257,\n",
       "  0.46909043192863464,\n",
       "  0.4582153260707855,\n",
       "  0.4486458897590637,\n",
       "  0.4344292879104614,\n",
       "  0.42209458351135254,\n",
       "  0.4200882911682129,\n",
       "  0.41109737753868103,\n",
       "  0.39895570278167725,\n",
       "  0.40246108174324036,\n",
       "  0.38828596472740173,\n",
       "  0.3820769190788269,\n",
       "  0.3737315535545349,\n",
       "  0.3691154420375824,\n",
       "  0.35866260528564453,\n",
       "  0.35370540618896484,\n",
       "  0.35324737429618835,\n",
       "  0.34803417325019836,\n",
       "  0.34364476799964905,\n",
       "  0.33979782462120056,\n",
       "  0.33720096945762634],\n",
       " 'accuracy': [0.5587999820709229,\n",
       "  0.728600025177002,\n",
       "  0.7623999714851379,\n",
       "  0.782800018787384,\n",
       "  0.7993999719619751,\n",
       "  0.8140000104904175,\n",
       "  0.8212000131607056,\n",
       "  0.829200029373169,\n",
       "  0.8342000246047974,\n",
       "  0.8378000259399414,\n",
       "  0.8452000021934509,\n",
       "  0.8474000096321106,\n",
       "  0.8500000238418579,\n",
       "  0.8528000116348267,\n",
       "  0.8586000204086304,\n",
       "  0.8587999939918518,\n",
       "  0.8614000082015991,\n",
       "  0.8669999837875366,\n",
       "  0.8628000020980835,\n",
       "  0.8691999912261963,\n",
       "  0.8740000128746033,\n",
       "  0.8748000264167786,\n",
       "  0.8799999952316284,\n",
       "  0.881600022315979,\n",
       "  0.8831999897956848,\n",
       "  0.8802000284194946,\n",
       "  0.8790000081062317,\n",
       "  0.8841999769210815,\n",
       "  0.8870000243186951,\n",
       "  0.8873999714851379],\n",
       " 'val_loss': [1.0833185911178589,\n",
       "  0.8453547358512878,\n",
       "  0.7148171663284302,\n",
       "  0.6671534180641174,\n",
       "  0.7182482481002808,\n",
       "  0.5950165390968323,\n",
       "  0.5731453895568848,\n",
       "  0.5577338337898254,\n",
       "  0.6598783135414124,\n",
       "  0.5235537886619568,\n",
       "  0.550295352935791,\n",
       "  0.543079674243927,\n",
       "  0.5346409678459167,\n",
       "  0.5565165281295776,\n",
       "  0.5538529753684998,\n",
       "  0.5292781591415405,\n",
       "  0.5084797143936157,\n",
       "  0.6946509480476379,\n",
       "  0.7655219435691833,\n",
       "  0.5747877359390259,\n",
       "  0.5281599164009094,\n",
       "  0.5509763956069946,\n",
       "  0.47666725516319275,\n",
       "  0.5031759142875671,\n",
       "  0.48159533739089966,\n",
       "  0.517083466053009,\n",
       "  0.5643733739852905,\n",
       "  0.6928415298461914,\n",
       "  0.8003237843513489,\n",
       "  0.4808797538280487],\n",
       " 'val_accuracy': [0.6793272495269775,\n",
       "  0.7217272520065308,\n",
       "  0.7525454759597778,\n",
       "  0.7661091089248657,\n",
       "  0.7511272430419922,\n",
       "  0.7955818176269531,\n",
       "  0.798945426940918,\n",
       "  0.8077818155288696,\n",
       "  0.75116366147995,\n",
       "  0.8217272758483887,\n",
       "  0.8075636625289917,\n",
       "  0.8147454261779785,\n",
       "  0.8186363577842712,\n",
       "  0.7981091141700745,\n",
       "  0.8033272624015808,\n",
       "  0.8188363909721375,\n",
       "  0.8258363604545593,\n",
       "  0.7435091137886047,\n",
       "  0.7268727421760559,\n",
       "  0.8114181756973267,\n",
       "  0.8163454532623291,\n",
       "  0.798836350440979,\n",
       "  0.8348363637924194,\n",
       "  0.821327269077301,\n",
       "  0.8341272473335266,\n",
       "  0.8222908973693848,\n",
       "  0.8187999725341797,\n",
       "  0.7708545327186584,\n",
       "  0.7586363554000854,\n",
       "  0.8345999717712402]}"
      ]
     },
     "execution_count": 24,
     "metadata": {},
     "output_type": "execute_result"
    }
   ],
   "source": [
    "model_h.history"
   ]
  },
  {
   "cell_type": "code",
   "execution_count": 29,
   "id": "6c3ba568",
   "metadata": {},
   "outputs": [
    {
     "name": "stdout",
     "output_type": "stream",
     "text": [
      "313/313 [==============================] - 0s 1ms/step - loss: 0.5038 - accuracy: 0.8246\n"
     ]
    },
    {
     "data": {
      "text/plain": [
       "[0.5038267374038696, 0.8245999813079834]"
      ]
     },
     "execution_count": 29,
     "metadata": {},
     "output_type": "execute_result"
    }
   ],
   "source": [
    "model.evaluate(x_test,test_y)"
   ]
  },
  {
   "cell_type": "code",
   "execution_count": 30,
   "id": "d4298e02",
   "metadata": {},
   "outputs": [],
   "source": [
    "x_new = x_test[:3]"
   ]
  },
  {
   "cell_type": "code",
   "execution_count": 31,
   "id": "946efa41",
   "metadata": {},
   "outputs": [],
   "source": [
    "y_pred = model.predict(x_new)"
   ]
  },
  {
   "cell_type": "code",
   "execution_count": 32,
   "id": "f89d1a8e",
   "metadata": {},
   "outputs": [
    {
     "data": {
      "text/plain": [
       "array([[0.  , 0.  , 0.  , 0.  , 0.  , 0.04, 0.  , 0.11, 0.01, 0.84],\n",
       "       [0.  , 0.  , 0.99, 0.  , 0.  , 0.  , 0.01, 0.  , 0.  , 0.  ],\n",
       "       [0.  , 1.  , 0.  , 0.  , 0.  , 0.  , 0.  , 0.  , 0.  , 0.  ]],\n",
       "      dtype=float32)"
      ]
     },
     "execution_count": 32,
     "metadata": {},
     "output_type": "execute_result"
    }
   ],
   "source": [
    "y_pred.round(2)"
   ]
  },
  {
   "cell_type": "code",
   "execution_count": 33,
   "id": "a693e689",
   "metadata": {},
   "outputs": [
    {
     "name": "stdout",
     "output_type": "stream",
     "text": [
      "WARNING:tensorflow:From C:\\Users\\HP\\AppData\\Local\\Temp/ipykernel_2668/2123996527.py:1: Sequential.predict_classes (from tensorflow.python.keras.engine.sequential) is deprecated and will be removed after 2021-01-01.\n",
      "Instructions for updating:\n",
      "Please use instead:* `np.argmax(model.predict(x), axis=-1)`,   if your model does multi-class classification   (e.g. if it uses a `softmax` last-layer activation).* `(model.predict(x) > 0.5).astype(\"int32\")`,   if your model does binary classification   (e.g. if it uses a `sigmoid` last-layer activation).\n"
     ]
    }
   ],
   "source": [
    "y_p = model.predict_classes(x_new)"
   ]
  },
  {
   "cell_type": "code",
   "execution_count": 34,
   "id": "3375d42d",
   "metadata": {},
   "outputs": [
    {
     "data": {
      "text/plain": [
       "array(['Ankle boot', 'Pullover', 'Trouser'], dtype='<U11')"
      ]
     },
     "execution_count": 34,
     "metadata": {},
     "output_type": "execute_result"
    }
   ],
   "source": [
    "np.array(class_names)[y_p]"
   ]
  },
  {
   "cell_type": "code",
   "execution_count": 37,
   "id": "f8e86535",
   "metadata": {},
   "outputs": [
    {
     "data": {
      "text/plain": [
       "<matplotlib.image.AxesImage at 0x1e6ffae2a30>"
      ]
     },
     "execution_count": 37,
     "metadata": {},
     "output_type": "execute_result"
    },
    {
     "data": {
      "image/png": "[encoded data removed]",
      "text/plain": [
       "<Figure size 432x288 with 1 Axes>"
      ]
     },
     "metadata": {
      "needs_background": "light"
     },
     "output_type": "display_data"
    }
   ],
   "source": [
    "plt.imshow(x_test[0])"
   ]
  },
  {
   "cell_type": "code",
   "execution_count": 38,
   "id": "c8fa214d",
   "metadata": {},
   "outputs": [
    {
     "data": {
      "text/plain": [
       "<matplotlib.image.AxesImage at 0x1e6fff601c0>"
      ]
     },
     "execution_count": 38,
     "metadata": {},
     "output_type": "execute_result"
    },
    {
     "data": {
      "image/png": "[encoded data removed]",
      "text/plain": [
       "<Figure size 432x288 with 1 Axes>"
      ]
     },
     "metadata": {
      "needs_background": "light"
     },
     "output_type": "display_data"
    }
   ],
   "source": [
    "plt.imshow(x_test[1])"
   ]
  },
  {
   "cell_type": "code",
   "execution_count": 39,
   "id": "f8335a35",
   "metadata": {},
   "outputs": [
    {
     "data": {
      "text/plain": [
       "<matplotlib.image.AxesImage at 0x1e6ffe90a60>"
      ]
     },
     "execution_count": 39,
     "metadata": {},
     "output_type": "execute_result"
    },
    {
     "data": {
      "image/png": "[encoded data removed]",
      "text/plain": [
       "<Figure size 432x288 with 1 Axes>"
      ]
     },
     "metadata": {
      "needs_background": "light"
     },
     "output_type": "display_data"
    }
   ],
   "source": [
    "plt.imshow(x_test[2])"
   ]
  },
  {
   "cell_type": "code",
   "execution_count": null,
   "id": "d5e5a655",
   "metadata": {},
   "outputs": [],
   "source": []
  }
 ],
 "metadata": {
  "kernelspec": {
   "display_name": "Python 3 (ipykernel)",
   "language": "python",
   "name": "python3"
  },
  "language_info": {
   "codemirror_mode": {
    "name": "ipython",
    "version": 3
   },
   "file_extension": ".py",
   "mimetype": "text/x-python",
   "name": "python",
   "nbconvert_exporter": "python",
   "pygments_lexer": "ipython3",
   "version": "3.8.12"
  }
 },
 "nbformat": 4,
 "nbformat_minor": 5
}
